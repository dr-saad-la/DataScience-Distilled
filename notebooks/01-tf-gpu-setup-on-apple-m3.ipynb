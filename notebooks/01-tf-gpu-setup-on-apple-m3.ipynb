{
 "cells": [
  {
   "cell_type": "markdown",
   "id": "7a223bd9-7f80-4b2a-9a8d-57fe1b232052",
   "metadata": {},
   "source": [
    "## Step-by-step Guide to Installing TensorFlow-GPU 2.17 on Mac M3 Max Silicon Chip\n",
    "\n",
    "### Author: Dr. Saad Laouadi\n",
    "\n",
    "#### Date: July 27, 2024"
   ]
  },
  {
   "cell_type": "markdown",
   "id": "16316645-2089-4ad9-b56f-b3d08d9380fa",
   "metadata": {},
   "source": [
    "Setup Steps\n",
    "===========\n",
    "\n",
    "1. **Install Homebrew**: If you haven’t installed Homebrew, you can do so by running the following command in your terminal:\n",
    "```sh\n",
    "/bin/bash -c \"$(curl -fsSL https://raw.githubusercontent.com/Homebrew/install/HEAD/install.sh)\"\n",
    "```\n",
    "\n",
    "2. **Install Miniforge**: Miniforge is a minimal conda installer that is compatible with M3 Macs.\n",
    "   ```sh\n",
    "   brew install --cask miniforge\n",
    "   ```\n",
    "   \n",
    "3. **Create a Conda Environment**: Create a conda environment for TensorFlow using the `mamba` package manager. This helps manage dependencies and isolate your TensorFlow installation from other Python projects.\n",
    "    ```sh\n",
    "    mamba create --name tf-gpu-env\n",
    "    ```\n",
    "4. **Activate the newly created environment**:\n",
    "    ```sh\n",
    "    mamba activate tf-gpu-env\n",
    "    # upgrade pip \n",
    "    pip install --upgrade pip\n",
    "    ```\n",
    "\n",
    "5. **Install the latest version of TensorFlow**:\n",
    "    ```sh\n",
    "    python3 -m pip install tensorflow~=2.17 tf_keras~=2.17\n",
    "    ```\n",
    "6. **Install Tensorflow Metal**: Tensorflow metal is required to access the GPU:\n",
    "    ```sh\n",
    "    python3 -m pip install tensorflow-metal\n",
    "    ```\n",
    "    \n",
    "7. **Check the installation**:\n",
    "    ```sh\n",
    "    pip list | grep -E 'keras|tensorflow'\n",
    "    ```\n",
    "   - **Here is the output on my machine:**\n",
    "    ```text\n",
    "      keras                        3.4.1\n",
    "      tensorflow                   2.17.0\n",
    "      tensorflow-datasets          4.8.3+nightly\n",
    "      tensorflow-estimator         2.8.0\n",
    "      tensorflow-io-gcs-filesystem 0.37.1\n",
    "      tensorflow-metadata          1.13.1\n",
    "      tensorflow-metal             1.1.0\n",
    "      tf_keras                     2.17.0\n",
    "    ```\n",
    "    \n",
    "Setup JupyterLab and Register the Kernel\n",
    "========================================\n",
    "\n",
    "1. **Install JupyterLab web-based application**:\n",
    "    ```sh\n",
    "    python3 -m pip install jupyterlab\n",
    "    ```\n",
    "2. **Install JupyterLab Desktop application**: Alternatively, you can install the JupyterLab desktop application (if you don't already have that):\n",
    "    ```sh\n",
    "    brew install --cask jupyterlab\n",
    "    ```\n",
    "3. **Register the kernel to be available for JupyterLab**:\n",
    "    ```sh\n",
    "    python3 -m pip install ipython\n",
    "    ipython kernel install --user --name=tf-gpu-env --display-name=TF-GPU-2.17\n",
    "    ```\n",
    "    \n",
    "Test the Environment\n",
    "====================\n",
    "\n",
    "1. **Create a working directory for a new project**:\n",
    "    ```sh\n",
    "    mkdir test-project && cd test-project\n",
    "    ```\n",
    "    \n",
    "2. **Open JupyterLab**:\n",
    "\n",
    "   - Web-based:\n",
    "        ```sh\n",
    "        jupyterlab .\n",
    "        ```\n",
    "\n",
    "   - Desktop JupyterLab:\n",
    "        ```sh\n",
    "        open -a jupyterlab .\n",
    "        ```"
   ]
  },
  {
   "cell_type": "code",
   "execution_count": 1,
   "id": "2c4e2ba2-c932-45f9-8187-d1e551b82f6a",
   "metadata": {},
   "outputs": [
    {
     "name": "stdout",
     "output_type": "stream",
     "text": [
      "========================================================================\n",
      "System: /opt/homebrew/Caskroom/mambaforge/base/envs/tfenv/bin/python3\n",
      "TensorFlow: 2.17.0\n",
      "========================================================================\n",
      "[PhysicalDevice(name='/physical_device:CPU:0', device_type='CPU')]\n",
      "[PhysicalDevice(name='/physical_device:GPU:0', device_type='GPU')]\n",
      "************************************************************************\n"
     ]
    }
   ],
   "source": [
    "#=================================================================================#\n",
    "#             Testing Tensorflow on Mac M3 Max \n",
    "#=================================================================================#\n",
    "import sys\n",
    "import tensorflow as tf\n",
    "\n",
    "# Check if the current Python executable matches the expected path\n",
    "expected_executable = '/opt/homebrew/Caskroom/mambaforge/base/envs/tfenv/bin/python3'\n",
    "assert sys.executable == expected_executable, f\"Expected Python executable: {expected_executable}, but got: {sys.executable}\"\n",
    "\n",
    "# Check if the TensorFlow version starts with \"2.17\"\n",
    "assert tf.__version__.startswith('2.17'), f\"Expected TensorFlow version to start with '2.17', but got: {tf.__version__}\"\n",
    "\n",
    "# Print system and TensorFlow version information\n",
    "print(\"=\"*72)\n",
    "print(f'System: {sys.executable}')\n",
    "print(f'TensorFlow: {tf.__version__}')\n",
    "print(\"=\"*72)\n",
    "\n",
    "# Check the available physical Devices\n",
    "for device in ['CPU', 'GPU']:\n",
    "    print(tf.config.list_physical_devices(device))\n",
    "\n",
    "print('*'*72)"
   ]
  },
  {
   "cell_type": "markdown",
   "id": "d5a14f3e-b5b7-4b71-810b-b7568ac652a0",
   "metadata": {},
   "source": [
    "## GPU-Testing "
   ]
  },
  {
   "cell_type": "code",
   "execution_count": 3,
   "id": "a6ab2288-cb43-48f2-b489-ea490b8d17c4",
   "metadata": {},
   "outputs": [
    {
     "name": "stdout",
     "output_type": "stream",
     "text": [
      "Visible Devices:  [PhysicalDevice(name='/physical_device:CPU:0', device_type='CPU'), PhysicalDevice(name='/physical_device:GPU:0', device_type='GPU')]\n",
      "\u001b[1m391/391\u001b[0m \u001b[32m━━━━━━━━━━━━━━━━━━━━\u001b[0m\u001b[37m\u001b[0m \u001b[1m164s\u001b[0m 329ms/step - accuracy: 0.0593 - loss: 4.7821\n",
      "CPU times: user 3min 4s, sys: 44.6 s, total: 3min 49s\n",
      "Wall time: 2min 45s\n"
     ]
    },
    {
     "data": {
      "text/plain": [
       "<keras.src.callbacks.history.History at 0x405ba35e0>"
      ]
     },
     "execution_count": 3,
     "metadata": {},
     "output_type": "execute_result"
    }
   ],
   "source": [
    "%%time\n",
    "\n",
    "# Ensure we see the GPU in device list.\n",
    "print('Visible Devices: ', tf.config.get_visible_devices())\n",
    "\n",
    "cifar = tf.keras.datasets.cifar100\n",
    "(x_train, y_train), (x_test, y_test) = cifar.load_data()\n",
    "model = tf.keras.applications.ResNet50(\n",
    "    include_top=True,\n",
    "    weights=None,\n",
    "    input_shape=(32, 32, 3),\n",
    "    classes=100,)\n",
    "\n",
    "loss_fn = tf.keras.losses.SparseCategoricalCrossentropy(from_logits=False)\n",
    "model.compile(optimizer=\"adam\", loss=loss_fn, metrics=[\"accuracy\"])\n",
    "model.fit(x_train, y_train, epochs=1, batch_size=128)"
   ]
  },
  {
   "cell_type": "markdown",
   "id": "40f25a60-feca-4b8d-b418-3387b3e2997f",
   "metadata": {},
   "source": [
    "## CPU-Test"
   ]
  },
  {
   "cell_type": "code",
   "execution_count": 11,
   "id": "8b12296f-367c-4781-bd9d-bae87413fbb7",
   "metadata": {},
   "outputs": [],
   "source": [
    "# Restart the kernel so we can test on CPU\n",
    "%%capture\n",
    "!jupyter notebook stop 57134    # The port this notebook is running "
   ]
  },
  {
   "cell_type": "code",
   "execution_count": 1,
   "id": "dd858c41-f54d-432f-a2cd-36875d136488",
   "metadata": {},
   "outputs": [
    {
     "name": "stdout",
     "output_type": "stream",
     "text": [
      "Visible Devices:  [PhysicalDevice(name='/physical_device:CPU:0', device_type='CPU')]\n",
      "\u001b[1m391/391\u001b[0m \u001b[32m━━━━━━━━━━━━━━━━━━━━\u001b[0m\u001b[37m\u001b[0m \u001b[1m496s\u001b[0m 1s/step - accuracy: 0.0573 - loss: 4.8759\n",
      "CPU times: user 20min 43s, sys: 4min 45s, total: 25min 28s\n",
      "Wall time: 8min 18s\n"
     ]
    },
    {
     "data": {
      "text/plain": [
       "<keras.src.callbacks.history.History at 0x3b7181fc0>"
      ]
     },
     "execution_count": 1,
     "metadata": {},
     "output_type": "execute_result"
    }
   ],
   "source": [
    "%%time\n",
    "\n",
    "import tensorflow as tf\n",
    "# Removes GPU from list, i.e. []\n",
    "tf.config.set_visible_devices([], 'GPU')\n",
    "print('Visible Devices: ', tf.config.get_visible_devices())\n",
    "\n",
    "cifar = tf.keras.datasets.cifar100\n",
    "(x_train, y_train), (x_test, y_test) = cifar.load_data()\n",
    "model = tf.keras.applications.ResNet50(\n",
    "    include_top=True,\n",
    "    weights=None,\n",
    "    input_shape=(32, 32, 3),\n",
    "    classes=100,)\n",
    "\n",
    "loss_fn = tf.keras.losses.SparseCategoricalCrossentropy(from_logits=False)\n",
    "model.compile(optimizer=\"adam\", loss=loss_fn, metrics=[\"accuracy\"])\n",
    "model.fit(x_train, y_train, epochs=1, batch_size=128)"
   ]
  },
  {
   "cell_type": "markdown",
   "id": "c85a1e1b-e56a-40ba-9b8b-d8d2896f60e7",
   "metadata": {},
   "source": [
    "### References\n",
    "\n",
    "1. [What's new in TensorFlow 2.16](https://blog.tensorflow.org/2024/03/whats-new-in-tensorflow-216.html)\n",
    "2. [Get started with tensorflow-metal](https://developer.apple.com/metal/tensorflow-plugin/)\n",
    "3. [Homebrew](https://brew.sh/)\n",
    "4. [Tensorflow](https://www.tensorflow.org/)\n",
    "5. [Miniforge](https://github.com/conda-forge/miniforge)"
   ]
  }
 ],
 "metadata": {
  "kernelspec": {
   "display_name": "Python (TensorFlow 2.16)",
   "language": "python",
   "name": "venv-tf16"
  },
  "language_info": {
   "codemirror_mode": {
    "name": "ipython",
    "version": 3
   },
   "file_extension": ".py",
   "mimetype": "text/x-python",
   "name": "python",
   "nbconvert_exporter": "python",
   "pygments_lexer": "ipython3",
   "version": "3.10.8"
  }
 },
 "nbformat": 4,
 "nbformat_minor": 5
}
